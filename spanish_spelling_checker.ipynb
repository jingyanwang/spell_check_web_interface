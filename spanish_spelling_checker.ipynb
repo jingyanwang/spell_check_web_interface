{
 "cells": [
  {
   "cell_type": "code",
   "execution_count": 1,
   "id": "4aff178e",
   "metadata": {},
   "outputs": [
    {
     "name": "stdout",
     "output_type": "stream",
     "text": [
      "Requirement already satisfied: autocorrect in c:\\users\\jimwa\\appdata\\local\\programs\\python\\python310\\lib\\site-packages (2.6.1)\n"
     ]
    },
    {
     "name": "stderr",
     "output_type": "stream",
     "text": [
      "\n",
      "[notice] A new release of pip available: 22.2.1 -> 22.2.2\n",
      "[notice] To update, run: python.exe -m pip install --upgrade pip\n"
     ]
    }
   ],
   "source": [
    "!pip install autocorrect"
   ]
  },
  {
   "cell_type": "code",
   "execution_count": 2,
   "id": "7bcf54cf",
   "metadata": {},
   "outputs": [],
   "source": [
    "import autocorrect\n",
    "from autocorrect import Speller"
   ]
  },
  {
   "cell_type": "code",
   "execution_count": 3,
   "id": "857e0e2f",
   "metadata": {},
   "outputs": [],
   "source": [
    "from autocorrect import Speller"
   ]
  },
  {
   "cell_type": "code",
   "execution_count": 4,
   "id": "56a71969",
   "metadata": {},
   "outputs": [],
   "source": [
    "spanish_spelling_checker = Speller('es')"
   ]
  },
  {
   "cell_type": "markdown",
   "id": "95dc2c3a",
   "metadata": {},
   "source": [
    "text = u\"El juez ordena quee Murillo Karam permanezca en la cárcal\"\n",
    "spanish_spelling_checker(text)"
   ]
  },
  {
   "cell_type": "code",
   "execution_count": 6,
   "id": "9dbb4f97",
   "metadata": {},
   "outputs": [],
   "source": [
    "def spanish_spelling_check(\n",
    "    text,\n",
    "    ):\n",
    "    try:\n",
    "        return spanish_spelling_checker(text)\n",
    "    except:\n",
    "        return None"
   ]
  },
  {
   "cell_type": "markdown",
   "id": "900ae94b",
   "metadata": {},
   "source": [
    "spanish_spelling_check(u\"El juez ordena quee Murillo Karam permanezca en la cárcal\")"
   ]
  },
  {
   "cell_type": "markdown",
   "id": "9e24dbb3",
   "metadata": {},
   "source": [
    "# end"
   ]
  }
 ],
 "metadata": {
  "kernelspec": {
   "display_name": "Python 3 (ipykernel)",
   "language": "python",
   "name": "python3"
  },
  "language_info": {
   "codemirror_mode": {
    "name": "ipython",
    "version": 3
   },
   "file_extension": ".py",
   "mimetype": "text/x-python",
   "name": "python",
   "nbconvert_exporter": "python",
   "pygments_lexer": "ipython3",
   "version": "3.10.6"
  }
 },
 "nbformat": 4,
 "nbformat_minor": 5
}
