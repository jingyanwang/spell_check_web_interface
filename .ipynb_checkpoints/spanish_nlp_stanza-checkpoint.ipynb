{
 "cells": [
  {
   "cell_type": "code",
   "execution_count": 1,
   "id": "950a4051",
   "metadata": {},
   "outputs": [
    {
     "name": "stdout",
     "output_type": "stream",
     "text": [
      "Requirement already satisfied: stanza in c:\\users\\jimwa\\appdata\\local\\programs\\python\\python310\\lib\\site-packages (1.4.0)\n",
      "Requirement already satisfied: six in c:\\users\\jimwa\\appdata\\local\\programs\\python\\python310\\lib\\site-packages (from stanza) (1.16.0)\n",
      "Requirement already satisfied: torch>=1.3.0 in c:\\users\\jimwa\\appdata\\local\\programs\\python\\python310\\lib\\site-packages (from stanza) (1.12.1+cu116)\n",
      "Requirement already satisfied: numpy in c:\\users\\jimwa\\appdata\\local\\programs\\python\\python310\\lib\\site-packages (from stanza) (1.23.1)\n",
      "Requirement already satisfied: requests in c:\\users\\jimwa\\appdata\\local\\programs\\python\\python310\\lib\\site-packages (from stanza) (2.28.1)\n",
      "Requirement already satisfied: transformers in c:\\users\\jimwa\\appdata\\local\\programs\\python\\python310\\lib\\site-packages (from stanza) (4.21.2)\n",
      "Requirement already satisfied: tqdm in c:\\users\\jimwa\\appdata\\local\\programs\\python\\python310\\lib\\site-packages (from stanza) (4.64.0)\n",
      "Requirement already satisfied: emoji in c:\\users\\jimwa\\appdata\\local\\programs\\python\\python310\\lib\\site-packages (from stanza) (2.0.0)\n",
      "Requirement already satisfied: protobuf in c:\\users\\jimwa\\appdata\\local\\programs\\python\\python310\\lib\\site-packages (from stanza) (3.19.4)\n",
      "Requirement already satisfied: typing-extensions in c:\\users\\jimwa\\appdata\\local\\programs\\python\\python310\\lib\\site-packages (from torch>=1.3.0->stanza) (4.3.0)\n",
      "Requirement already satisfied: urllib3<1.27,>=1.21.1 in c:\\users\\jimwa\\appdata\\local\\programs\\python\\python310\\lib\\site-packages (from requests->stanza) (1.26.11)\n",
      "Requirement already satisfied: idna<4,>=2.5 in c:\\users\\jimwa\\appdata\\local\\programs\\python\\python310\\lib\\site-packages (from requests->stanza) (3.3)\n",
      "Requirement already satisfied: charset-normalizer<3,>=2 in c:\\users\\jimwa\\appdata\\local\\programs\\python\\python310\\lib\\site-packages (from requests->stanza) (2.1.0)\n",
      "Requirement already satisfied: certifi>=2017.4.17 in c:\\users\\jimwa\\appdata\\local\\programs\\python\\python310\\lib\\site-packages (from requests->stanza) (2022.6.15)\n",
      "Requirement already satisfied: colorama in c:\\users\\jimwa\\appdata\\local\\programs\\python\\python310\\lib\\site-packages (from tqdm->stanza) (0.4.5)\n",
      "Requirement already satisfied: packaging>=20.0 in c:\\users\\jimwa\\appdata\\local\\programs\\python\\python310\\lib\\site-packages (from transformers->stanza) (21.3)\n",
      "Requirement already satisfied: filelock in c:\\users\\jimwa\\appdata\\local\\programs\\python\\python310\\lib\\site-packages (from transformers->stanza) (3.8.0)\n",
      "Requirement already satisfied: pyyaml>=5.1 in c:\\users\\jimwa\\appdata\\local\\programs\\python\\python310\\lib\\site-packages (from transformers->stanza) (6.0)\n",
      "Requirement already satisfied: regex!=2019.12.17 in c:\\users\\jimwa\\appdata\\local\\programs\\python\\python310\\lib\\site-packages (from transformers->stanza) (2022.8.17)\n",
      "Requirement already satisfied: huggingface-hub<1.0,>=0.1.0 in c:\\users\\jimwa\\appdata\\local\\programs\\python\\python310\\lib\\site-packages (from transformers->stanza) (0.8.1)\n",
      "Requirement already satisfied: tokenizers!=0.11.3,<0.13,>=0.11.1 in c:\\users\\jimwa\\appdata\\local\\programs\\python\\python310\\lib\\site-packages (from transformers->stanza) (0.12.1)\n",
      "Requirement already satisfied: pyparsing!=3.0.5,>=2.0.2 in c:\\users\\jimwa\\appdata\\local\\programs\\python\\python310\\lib\\site-packages (from packaging>=20.0->transformers->stanza) (3.0.9)\n"
     ]
    },
    {
     "name": "stderr",
     "output_type": "stream",
     "text": [
      "\n",
      "[notice] A new release of pip available: 22.2.1 -> 22.2.2\n",
      "[notice] To update, run: python.exe -m pip install --upgrade pip\n"
     ]
    }
   ],
   "source": [
    "! pip install stanza"
   ]
  },
  {
   "cell_type": "code",
   "execution_count": 2,
   "id": "b7e9dd0b",
   "metadata": {},
   "outputs": [],
   "source": [
    "import stanza"
   ]
  },
  {
   "cell_type": "code",
   "execution_count": 3,
   "id": "80060da0",
   "metadata": {},
   "outputs": [
    {
     "data": {
      "text/plain": [
       "'1.4.0'"
      ]
     },
     "execution_count": 3,
     "metadata": {},
     "output_type": "execute_result"
    }
   ],
   "source": [
    "stanza.__version__"
   ]
  },
  {
   "cell_type": "code",
   "execution_count": 4,
   "id": "519b299d",
   "metadata": {},
   "outputs": [
    {
     "data": {
      "application/vnd.jupyter.widget-view+json": {
       "model_id": "a7ac2c287759439385f95126c7f71211",
       "version_major": 2,
       "version_minor": 0
      },
      "text/plain": [
       "Downloading https://raw.githubusercontent.com/stanfordnlp/stanza-resources/main/resources_1.4.0.json:   0%|   …"
      ]
     },
     "metadata": {},
     "output_type": "display_data"
    },
    {
     "name": "stderr",
     "output_type": "stream",
     "text": [
      "2022-08-25 09:52:13 INFO: Downloading default packages for language: es (Spanish)...\n",
      "2022-08-25 09:52:14 INFO: File exists: C:\\Users\\jimwa\\stanza_resources\\es\\default.zip\n",
      "2022-08-25 09:52:17 INFO: Finished downloading models and saved to C:\\Users\\jimwa\\stanza_resources.\n"
     ]
    }
   ],
   "source": [
    "stanza.download('es')"
   ]
  },
  {
   "cell_type": "code",
   "execution_count": 5,
   "id": "0dee7659",
   "metadata": {},
   "outputs": [
    {
     "data": {
      "application/vnd.jupyter.widget-view+json": {
       "model_id": "b0b1e6c317214d7fae91c2bcee4daf23",
       "version_major": 2,
       "version_minor": 0
      },
      "text/plain": [
       "Downloading https://raw.githubusercontent.com/stanfordnlp/stanza-resources/main/resources_1.4.0.json:   0%|   …"
      ]
     },
     "metadata": {},
     "output_type": "display_data"
    },
    {
     "name": "stderr",
     "output_type": "stream",
     "text": [
      "2022-08-25 09:52:18 INFO: Loading these models for language: es (Spanish):\n",
      "=======================\n",
      "| Processor | Package |\n",
      "-----------------------\n",
      "| tokenize  | ancora  |\n",
      "| mwt       | ancora  |\n",
      "| pos       | ancora  |\n",
      "| lemma     | ancora  |\n",
      "| depparse  | ancora  |\n",
      "| ner       | conll02 |\n",
      "=======================\n",
      "\n",
      "2022-08-25 09:52:19 INFO: Use device: gpu\n",
      "2022-08-25 09:52:19 INFO: Loading: tokenize\n",
      "2022-08-25 09:52:20 INFO: Loading: mwt\n",
      "2022-08-25 09:52:20 INFO: Loading: pos\n",
      "2022-08-25 09:52:21 INFO: Loading: lemma\n",
      "2022-08-25 09:52:21 INFO: Loading: depparse\n",
      "2022-08-25 09:52:21 INFO: Loading: ner\n",
      "2022-08-25 09:52:22 INFO: Done loading processors!\n"
     ]
    }
   ],
   "source": [
    "nlp = stanza.Pipeline('es')"
   ]
  },
  {
   "cell_type": "code",
   "execution_count": 6,
   "id": "78a398f8",
   "metadata": {},
   "outputs": [],
   "source": [
    "text = u\"El juez ordena que Murillo Karam permanezca en la cárcal\""
   ]
  },
  {
   "cell_type": "code",
   "execution_count": 7,
   "id": "7b455396",
   "metadata": {},
   "outputs": [],
   "source": [
    "doc = nlp(text)"
   ]
  },
  {
   "cell_type": "code",
   "execution_count": 10,
   "id": "bed103a6",
   "metadata": {},
   "outputs": [
    {
     "name": "stdout",
     "output_type": "stream",
     "text": [
      "El\n",
      "juez\n",
      "ordena\n",
      "que\n",
      "Murillo\n",
      "Karam\n",
      "permanezca\n",
      "en\n",
      "la\n",
      "cárcal\n"
     ]
    }
   ],
   "source": [
    "for s in doc.sentences:\n",
    "    for t in s.tokens:\n",
    "        print(t.text)"
   ]
  }
 ],
 "metadata": {
  "kernelspec": {
   "display_name": "Python 3 (ipykernel)",
   "language": "python",
   "name": "python3"
  },
  "language_info": {
   "codemirror_mode": {
    "name": "ipython",
    "version": 3
   },
   "file_extension": ".py",
   "mimetype": "text/x-python",
   "name": "python",
   "nbconvert_exporter": "python",
   "pygments_lexer": "ipython3",
   "version": "3.10.6"
  }
 },
 "nbformat": 4,
 "nbformat_minor": 5
}
